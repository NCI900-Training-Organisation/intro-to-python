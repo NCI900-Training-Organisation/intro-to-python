{
 "cells": [
  {
   "cell_type": "code",
   "execution_count": null,
   "id": "433f4fa3-a95e-449c-9448-3d22a78f0f0e",
   "metadata": {},
   "outputs": [],
   "source": [
    "import numpy as np\n",
    "import os\n",
    "import pandas as pd"
   ]
  },
  {
   "cell_type": "markdown",
   "id": "181ceb64-1ae6-4033-a8e2-57b5b99e2228",
   "metadata": {},
   "source": [
    "Pandas is a powerful Python library for data manipulation and analysis. It provides data structures like **DataFrames** and **Series** that make handling large datasets efficient and intuitive. With pandas, users can perform operations like data cleaning, filtering, grouping, merging, and reshaping, all with minimal code. It is a go-to tool for structured data management in Python. Its integration with other libraries like NumPy and visualization tools makes it essential for any data-related tasks.\n",
    "\n",
    "A DataFrame is a 2-dimensional, tabular data structure in pandas that resembles a table in a relational database or an Excel spreadsheet. It consists of rows and columns, with each column representing a different attribute of the data. Each column in a DataFrame is a Series, and each row has an associated index."
   ]
  },
  {
   "cell_type": "code",
   "execution_count": null,
   "id": "d87cf727-b00f-4c24-97a0-4930c3c1a75c",
   "metadata": {},
   "outputs": [],
   "source": [
    "import os\n",
    "# The jupyter notebook is launched from your $HOME directory.\n",
    "# Change the working directory to the workshop directory\n",
    "# which was created in your username directory under /scratch/vp91\n",
    "os.chdir(os.path.expandvars(\"/scratch/vp91/$USER/\"))"
   ]
  },
  {
   "cell_type": "markdown",
   "id": "4a718eda-e9ae-4012-a527-7854cc5bf290",
   "metadata": {},
   "source": [
    "### Creating a DataFrame from a dictionary"
   ]
  },
  {
   "cell_type": "code",
   "execution_count": null,
   "id": "c0f71091-db0d-4f2e-ab63-0dde3cd653c2",
   "metadata": {},
   "outputs": [],
   "source": [
    "import pandas as pd\n",
    "\n",
    "\n",
    "data = {\n",
    "    'Name': ['alpha', 'bravo', 'charlie', 'delta', 'echo', 'foxtrot', 'golf', 'hotel', 'india', 'juliet'],\n",
    "    'Age': [24, 27, 22, 34, 17, 29, np.nan, 72, 25, 19],\n",
    "    'City': ['New York', np.nan, 'Chicago', 'Auckland', 'Sydney', 'Melbourne', 'Hobart', 'Rio', 'Madrid', 'Malaga']\n",
    "}\n",
    "df = pd.DataFrame(data)\n",
    "\n",
    "df = df.set_index('Name', inplace=False)\n",
    "\n",
    "print(df)\n"
   ]
  },
  {
   "cell_type": "markdown",
   "id": "99b07707-11a4-42cb-af5d-d896a43a8d02",
   "metadata": {},
   "source": [
    "### Creating a Series from a list "
   ]
  },
  {
   "cell_type": "code",
   "execution_count": null,
   "id": "9d950ce2-984a-418a-8edb-99d9f0f36b90",
   "metadata": {},
   "outputs": [],
   "source": [
    "\n",
    "height = pd.Series([x for x in range(160, 170)], \n",
    "                   index=[  'bravo', 'charlie', 'delta', \n",
    "                          'echo', 'foxtrot', 'golf', 'hotel', \n",
    "                          'india', 'juliet', 'alpha'])\n",
    "print(height)\n"
   ]
  },
  {
   "cell_type": "code",
   "execution_count": null,
   "id": "13024c2b-ea6b-49a9-a70a-86c4e2ef4faf",
   "metadata": {},
   "outputs": [],
   "source": [
    "\n",
    "df['height'] = height\n",
    "print(df)"
   ]
  },
  {
   "cell_type": "code",
   "execution_count": null,
   "id": "1f9df17c-fe22-4f4c-a5a6-618ad53d046a",
   "metadata": {},
   "outputs": [],
   "source": [
    "df['distance'] = [x for x in range(20, 30)]\n",
    "df['department'] = ['Hr', 'Accounts', 'Enginnering', 'Enginnering',\n",
    "                   'Admin', 'Accounts', 'Accounts', 'Hr', 'Hr', 'Admin']\n",
    "print(df)"
   ]
  },
  {
   "cell_type": "markdown",
   "id": "e187039b-e4b8-4030-aa76-397ef2a9a61a",
   "metadata": {},
   "source": [
    "### Store csv"
   ]
  },
  {
   "cell_type": "code",
   "execution_count": null,
   "id": "640556d3-626e-47bd-9eb9-538c4a943c56",
   "metadata": {},
   "outputs": [],
   "source": [
    "df.to_csv('output.csv', index=False)"
   ]
  },
  {
   "cell_type": "markdown",
   "id": "a960a7a5-73a9-4a9a-873f-ce0fe5aed990",
   "metadata": {},
   "source": [
    "### View few rows"
   ]
  },
  {
   "cell_type": "code",
   "execution_count": null,
   "id": "2f2e419a-1623-42c8-8e25-ff08b30d1024",
   "metadata": {},
   "outputs": [],
   "source": [
    "print(df.head())"
   ]
  },
  {
   "cell_type": "code",
   "execution_count": null,
   "id": "a6c6978a-4685-4c8d-bf3c-0ea849abc1dd",
   "metadata": {},
   "outputs": [],
   "source": [
    "print(df.tail())"
   ]
  },
  {
   "cell_type": "markdown",
   "id": "3b1efcd3-70ac-4e95-baf8-7e1a0d77298d",
   "metadata": {},
   "source": [
    "### Summary statistics"
   ]
  },
  {
   "cell_type": "code",
   "execution_count": null,
   "id": "d626e305-0882-4ada-ab38-224a32a77d22",
   "metadata": {},
   "outputs": [],
   "source": [
    "\n",
    "print(df.describe())\n"
   ]
  },
  {
   "cell_type": "markdown",
   "id": "4eb484a6-227c-433a-8f09-9deb43137aec",
   "metadata": {},
   "source": [
    "### Information on datatype"
   ]
  },
  {
   "cell_type": "code",
   "execution_count": null,
   "id": "6b28c2c4-992e-44b1-bde6-d99e670ee58e",
   "metadata": {},
   "outputs": [],
   "source": [
    "\n",
    "# Get data types of each column\n",
    "print(df.dtypes)\n"
   ]
  },
  {
   "cell_type": "code",
   "execution_count": null,
   "id": "2f7f5915-6215-4868-a95e-8a6903f447b1",
   "metadata": {},
   "outputs": [],
   "source": [
    "\n",
    "# Display shape of the DataFrame\n",
    "print(df.shape)"
   ]
  },
  {
   "cell_type": "markdown",
   "id": "dc7b8652-4765-4fc4-8b3a-6792a4382628",
   "metadata": {},
   "source": [
    "### Selection"
   ]
  },
  {
   "cell_type": "code",
   "execution_count": null,
   "id": "a93f2ef7-43b9-489b-98a4-a96156f38143",
   "metadata": {},
   "outputs": [],
   "source": [
    "# Selecting a single column\n",
    "df['Name']"
   ]
  },
  {
   "cell_type": "code",
   "execution_count": null,
   "id": "83c13b9b-a171-4835-9692-32a98e043324",
   "metadata": {},
   "outputs": [],
   "source": [
    "df.index"
   ]
  },
  {
   "cell_type": "code",
   "execution_count": null,
   "id": "029f0bc5-dcaf-4225-a303-8d5b36bd52bd",
   "metadata": {},
   "outputs": [],
   "source": [
    "# Selecting multiple columns\n",
    "df[['height', 'Age']]"
   ]
  },
  {
   "cell_type": "code",
   "execution_count": null,
   "id": "3a3733c8-ba2e-4362-9eef-4a7b493e846c",
   "metadata": {},
   "outputs": [],
   "source": [
    "# Selecting rows by index\n",
    "df.iloc[0]         # First row\n"
   ]
  },
  {
   "cell_type": "code",
   "execution_count": null,
   "id": "da3c1f55-9e04-408a-ae16-541f488d09b3",
   "metadata": {},
   "outputs": [],
   "source": [
    "df.iloc[0:2]       # First two rows"
   ]
  },
  {
   "cell_type": "code",
   "execution_count": null,
   "id": "dac72144-7542-4a16-ab6a-145b8497eea7",
   "metadata": {},
   "outputs": [],
   "source": [
    "# Selecting rows by label\n",
    "df.loc[0]          # First row (if index starts from 0)\n"
   ]
  },
  {
   "cell_type": "code",
   "execution_count": null,
   "id": "015663ea-e405-4ca9-889a-b4d2c1b2b87f",
   "metadata": {},
   "outputs": [],
   "source": [
    "# Selecting rows by label\n",
    "df.loc['alpha']          # First row (if index starts from 0"
   ]
  },
  {
   "cell_type": "code",
   "execution_count": null,
   "id": "8c92b03d-a141-43ce-b7ca-87a190bb11ef",
   "metadata": {},
   "outputs": [],
   "source": [
    "df.head()"
   ]
  },
  {
   "cell_type": "markdown",
   "id": "246de4cf-00ee-42ab-bd9f-9b32cc1035ab",
   "metadata": {},
   "source": [
    "### Manipulation"
   ]
  },
  {
   "cell_type": "code",
   "execution_count": null,
   "id": "38b06e85-5da9-4fa9-b63a-8ce630dc1e81",
   "metadata": {},
   "outputs": [],
   "source": [
    "df = df.reset_index(drop=False)\n",
    "df.head()"
   ]
  },
  {
   "cell_type": "code",
   "execution_count": null,
   "id": "31454f59-5e69-4d5d-b733-6d448229c2e1",
   "metadata": {},
   "outputs": [],
   "source": [
    "df.loc[df['Age'] > 30]  # Rows where Age > 30"
   ]
  },
  {
   "cell_type": "code",
   "execution_count": null,
   "id": "fb735463-bea4-42b7-9c7d-7f5e47548405",
   "metadata": {},
   "outputs": [],
   "source": [
    "# Filtering based on a condition\n",
    "adults = df[df['Age'] > 30] \n",
    "print(adults)"
   ]
  },
  {
   "cell_type": "code",
   "execution_count": null,
   "id": "4d3b83ab-2955-4ac4-a2a8-33605326c41c",
   "metadata": {},
   "outputs": [],
   "source": [
    "# Using multiple conditions\n",
    "senior_employees = df[(df['Age'] > 30) & (df['height'] > 162)]\n",
    "print(senior_employees)"
   ]
  },
  {
   "cell_type": "code",
   "execution_count": null,
   "id": "496a7940-7c07-493d-b52f-ca8cb19a8be8",
   "metadata": {},
   "outputs": [],
   "source": [
    "# Sort by a single column\n",
    "df.sort_values(by='Age', ascending=False)"
   ]
  },
  {
   "cell_type": "code",
   "execution_count": null,
   "id": "6d005721-e0dd-4ede-9f6b-78c688d4de78",
   "metadata": {},
   "outputs": [],
   "source": [
    "# Sort by multiple columns\n",
    "df.sort_values(by=['Age', 'Name'], ascending=[False, True])"
   ]
  },
  {
   "cell_type": "code",
   "execution_count": null,
   "id": "36db84b3-1c62-4190-9536-e8a48ba87d57",
   "metadata": {},
   "outputs": [],
   "source": [
    "df.groupby('department')['Age'].mean()"
   ]
  },
  {
   "cell_type": "code",
   "execution_count": null,
   "id": "7f53115e-c86e-4609-bf5a-c6448943fe18",
   "metadata": {},
   "outputs": [],
   "source": [
    "df.groupby('department').agg({'Age': ['mean', 'min', 'max'], 'distance': ['mean', 'min']})"
   ]
  },
  {
   "cell_type": "code",
   "execution_count": null,
   "id": "9c74ceec-3e22-48b9-9797-1deac3501cc3",
   "metadata": {},
   "outputs": [],
   "source": [
    "# new column\n",
    "df['allowance'] = df['distance'] * 25\n",
    "\n",
    "# Modifying an existing column\n",
    "df['Age'] = df['Age'] + 1\n",
    "\n",
    "df.head()"
   ]
  },
  {
   "cell_type": "code",
   "execution_count": null,
   "id": "086aef25-deb3-4122-b18f-e342bb856c76",
   "metadata": {},
   "outputs": [],
   "source": [
    "df.drop(columns=['distance'], inplace=True)\n",
    "df.head()"
   ]
  },
  {
   "cell_type": "code",
   "execution_count": null,
   "id": "86e4b143-6f2d-4ee0-bd95-ecb3e57ade36",
   "metadata": {},
   "outputs": [],
   "source": [
    "# Remove rows by index\n",
    "df.drop([0, 1], inplace=True)  # Dropping rows by index\n",
    "df.head()"
   ]
  },
  {
   "cell_type": "code",
   "execution_count": null,
   "id": "50f0f634-c483-4b93-a33a-475392fce208",
   "metadata": {},
   "outputs": [],
   "source": [
    "# Remove rows with missing values\n",
    "df.dropna(inplace=True)\n",
    "df.tail()"
   ]
  },
  {
   "cell_type": "code",
   "execution_count": null,
   "id": "f0c7c660-177a-4cc7-800a-76eb88bd8089",
   "metadata": {},
   "outputs": [],
   "source": [
    "# add new row\n",
    "\n",
    "data = {'Name': ['xray', 'yankee', 'zulu'], 'Age': [24, 27, ]}\n"
   ]
  },
  {
   "cell_type": "code",
   "execution_count": null,
   "id": "7cdbeb7e-2a79-46be-94fa-3a0ca8f19b72",
   "metadata": {},
   "outputs": [],
   "source": [
    "df.loc[2] = ['zulu', 22]"
   ]
  },
  {
   "cell_type": "code",
   "execution_count": null,
   "id": "f5764467-f070-41ec-85fa-620552e63050",
   "metadata": {},
   "outputs": [],
   "source": [
    "new_row = {'Name': 'zulu', 'Age': 22}\n",
    "df = pd.concat([df, pd.DataFrame([new_row])])\n",
    "df.tail()"
   ]
  },
  {
   "cell_type": "code",
   "execution_count": null,
   "id": "3c2c7782-6528-4372-b14d-2cc606671db6",
   "metadata": {},
   "outputs": [],
   "source": [
    "df = df.drop(index=5)\n",
    "df.tail()"
   ]
  },
  {
   "cell_type": "code",
   "execution_count": null,
   "id": "702ca188-2734-4a2d-903c-450bef7a0691",
   "metadata": {},
   "outputs": [],
   "source": [
    "df = df[df['allowance'] <= 700]\n",
    "df.tail()"
   ]
  },
  {
   "cell_type": "markdown",
   "id": "7fa99f35-80f0-45a6-9c38-389de96f5479",
   "metadata": {},
   "source": [
    "### Importing files"
   ]
  },
  {
   "cell_type": "code",
   "execution_count": null,
   "id": "90bb0134-e451-4e3c-9a33-5a9dd1566982",
   "metadata": {},
   "outputs": [],
   "source": [
    "df_new = pd.read_csv('output.csv')\n",
    "df_new.head()"
   ]
  },
  {
   "cell_type": "markdown",
   "id": "9063cdbb-9bca-4a2b-a5c1-a7e5098acaeb",
   "metadata": {},
   "source": [
    "### Summary of File Formats and Corresponding Functions\n",
    "\n",
    "| File Type       | Function            |\n",
    "|-----------------|---------------------|\n",
    "| CSV             | `pd.read_csv()`     |\n",
    "| Excel           | `pd.read_excel()`   |\n",
    "| JSON            | `pd.read_json()`    |\n",
    "| Parquet         | `pd.read_parquet()` |\n",
    "| SQL             | `pd.read_sql()`     |\n",
    "| HTML            | `pd.read_html()`    |\n",
    "| Pickle          | `pd.read_pickle()`  |\n",
    "| HDF5            | `pd.read_hdf()`     |\n",
    "\n",
    "These built-in functions allow direct reading of the specified formats into a pandas DataFrame."
   ]
  },
  {
   "cell_type": "code",
   "execution_count": null,
   "id": "a571944d-0ad0-4d5e-a61c-132c01e63709",
   "metadata": {},
   "outputs": [],
   "source": []
  }
 ],
 "metadata": {
  "kernelspec": {
   "display_name": "Python 3 (ipykernel)",
   "language": "python",
   "name": "python3"
  },
  "language_info": {
   "codemirror_mode": {
    "name": "ipython",
    "version": 3
   },
   "file_extension": ".py",
   "mimetype": "text/x-python",
   "name": "python",
   "nbconvert_exporter": "python",
   "pygments_lexer": "ipython3",
   "version": "3.11.0"
  }
 },
 "nbformat": 4,
 "nbformat_minor": 5
}
