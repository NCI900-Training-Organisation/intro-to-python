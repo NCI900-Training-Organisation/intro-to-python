{
 "cells": [
  {
   "cell_type": "markdown",
   "id": "07c6b3f4-c0d1-4455-a0bb-0244258298d0",
   "metadata": {},
   "source": [
    "# Lists\n",
    "\n",
    "In Python, a list is a collection of items — like numbers, words, or even other lists — stored in a specific order.\n",
    "\n",
    "You create a list by putting items inside square brackets [ ], separated by commas."
   ]
  },
  {
   "cell_type": "code",
   "execution_count": null,
   "id": "132ddb67-0791-4525-80b8-1c6b6d61ed6a",
   "metadata": {},
   "outputs": [],
   "source": [
    "odds = [1, 3, 5, 7]\n",
    "print('odds are:', odds)"
   ]
  },
  {
   "cell_type": "markdown",
   "id": "6e6ad75a-93ed-4829-be4f-f94a101e3955",
   "metadata": {},
   "source": [
    "## List indexing"
   ]
  },
  {
   "cell_type": "code",
   "execution_count": null,
   "id": "44c14953-6e5b-4ec2-b0ef-fc57c034a548",
   "metadata": {},
   "outputs": [],
   "source": [
    "print('first element:', odds[0])\n",
    "print('last element:', odds[3])\n",
    "print('\"-1\" element:', odds[-1])"
   ]
  },
  {
   "cell_type": "code",
   "execution_count": null,
   "id": "a481498e-288d-4a4d-b598-8c2f0a9ab9a8",
   "metadata": {},
   "outputs": [],
   "source": [
    "print('last element:', odds[4])"
   ]
  },
  {
   "cell_type": "markdown",
   "id": "765909f2-489c-4fa8-ac26-8ca93ee4d1a4",
   "metadata": {},
   "source": [
    "## Assigining values to lists"
   ]
  },
  {
   "cell_type": "code",
   "execution_count": null,
   "id": "64a5c0d6-7229-41d4-ac04-118a9f3f2aef",
   "metadata": {},
   "outputs": [],
   "source": [
    "names = ['Curie', 'Darwing', 'Turing']  # typo in Darwin's name\n",
    "print('names is originally:', names)\n",
    "names[1] = 'Darwin'  # correct the name\n",
    "print('final value of names:', names)"
   ]
  },
  {
   "cell_type": "markdown",
   "id": "e020e75a-3970-4af0-bb15-7c3252429de5",
   "metadata": {},
   "source": [
    "> Lists are mutable - their values can change"
   ]
  },
  {
   "cell_type": "markdown",
   "id": "5de791e5-1fee-4d85-ba8c-bac68a988106",
   "metadata": {},
   "source": [
    "## Shallow copy"
   ]
  },
  {
   "cell_type": "code",
   "execution_count": null,
   "id": "389c593f-1838-42a9-bb2f-26044809ff85",
   "metadata": {},
   "outputs": [],
   "source": [
    "names = ['Curie', 'Darwin', 'Turing']\n",
    "scientists = names\n",
    "\n",
    "print(names)\n",
    "print(scientists)\n"
   ]
  },
  {
   "cell_type": "code",
   "execution_count": null,
   "id": "d76e9e5e-a32a-44c4-8f3c-adfd26295121",
   "metadata": {},
   "outputs": [],
   "source": [
    "scientists[1] = 'Newton'\n",
    "\n",
    "print(names)\n",
    "print(scientists)"
   ]
  },
  {
   "cell_type": "markdown",
   "id": "adac8c5b-8e5d-4443-889f-a90eefc1d5b7",
   "metadata": {},
   "source": [
    "## Deep copy"
   ]
  },
  {
   "cell_type": "code",
   "execution_count": null,
   "id": "500cdc3b-50bf-4f42-8b2c-c4b763301bfb",
   "metadata": {},
   "outputs": [],
   "source": [
    "names = ['Curie', 'Darwin', 'Turing']\n",
    "scientists = list(names)\n",
    "\n",
    "print(names)\n",
    "print(scientists)\n"
   ]
  },
  {
   "cell_type": "code",
   "execution_count": null,
   "id": "18ed9907-3b80-4bcf-8646-6b94c96d989e",
   "metadata": {},
   "outputs": [],
   "source": [
    "scientists[1] = 'Newton'\n",
    "\n",
    "print(names)\n",
    "print(scientists)"
   ]
  },
  {
   "cell_type": "markdown",
   "id": "fb47bf2f-a42a-4a75-8404-b917dbc159e9",
   "metadata": {},
   "source": [
    "## Multi-dimensional lists"
   ]
  },
  {
   "cell_type": "code",
   "execution_count": null,
   "id": "da9c80ba-618e-4db5-b9c6-cc63c1958efd",
   "metadata": {},
   "outputs": [],
   "source": [
    "food =  [['lettuce', 'lettuce', 'peppers'], ['orange', 'apple'], ['almonds', 'pine nuts']]"
   ]
  },
  {
   "cell_type": "code",
   "execution_count": null,
   "id": "18d62b2c-addd-4568-8d32-8dac18ae9948",
   "metadata": {},
   "outputs": [],
   "source": [
    "print(food[1])"
   ]
  },
  {
   "cell_type": "code",
   "execution_count": null,
   "id": "76981a2b-3183-40b3-bdd2-8af44afa88d5",
   "metadata": {},
   "outputs": [],
   "source": [
    "print(food[2][0])"
   ]
  },
  {
   "cell_type": "code",
   "execution_count": null,
   "id": "ffdd9825-4e56-4715-8502-af2d2f80fa6c",
   "metadata": {},
   "outputs": [],
   "source": [
    "food[2][0] = 'cashew nuts'"
   ]
  },
  {
   "cell_type": "code",
   "execution_count": null,
   "id": "62740ec3-08af-4a83-9f88-549447a2ea1a",
   "metadata": {},
   "outputs": [],
   "source": [
    "print(food)"
   ]
  },
  {
   "cell_type": "code",
   "execution_count": null,
   "id": "f5d89193-c96e-4f17-a086-a3753604994d",
   "metadata": {},
   "outputs": [],
   "source": [
    "food[0] = ['fish', 'chicken']"
   ]
  },
  {
   "cell_type": "code",
   "execution_count": null,
   "id": "2f6e0243-6ce8-4177-9ba5-385045e7f4d6",
   "metadata": {},
   "outputs": [],
   "source": [
    "print(food)"
   ]
  },
  {
   "cell_type": "markdown",
   "id": "fdb2a0ad-4675-407d-ba50-f19573cd36f7",
   "metadata": {},
   "source": [
    "## Heterogeneous lists"
   ]
  },
  {
   "cell_type": "code",
   "execution_count": null,
   "id": "b2b98ce0-87fd-402b-93e2-928245223fc5",
   "metadata": {},
   "outputs": [],
   "source": [
    "sample = [10, 12.5, 'Aron']"
   ]
  },
  {
   "cell_type": "code",
   "execution_count": null,
   "id": "b8466000-a3e0-4fc2-bb66-c7621c1d353d",
   "metadata": {},
   "outputs": [],
   "source": [
    "sample[3] = 100"
   ]
  },
  {
   "cell_type": "code",
   "execution_count": null,
   "id": "39140e73-6ef8-4989-8ff1-df43126669ac",
   "metadata": {},
   "outputs": [],
   "source": [
    "sample.append(100)\n",
    "print(sample)"
   ]
  },
  {
   "cell_type": "code",
   "execution_count": null,
   "id": "4fbba195-fef4-4947-93ce-204742fea1bb",
   "metadata": {},
   "outputs": [],
   "source": [
    "sample.pop(2)\n",
    "print(sample)"
   ]
  },
  {
   "cell_type": "markdown",
   "id": "e9bcf504-147d-45ef-9489-6d66692c7ca4",
   "metadata": {},
   "source": [
    "## Slicing "
   ]
  },
  {
   "cell_type": "code",
   "execution_count": null,
   "id": "ddfe03ae-dccd-4980-8a8b-f90bf93c3ad3",
   "metadata": {},
   "outputs": [],
   "source": [
    "numbers = [0, 1, 2, 3, 4, 5, 6, 7, 8, 9]"
   ]
  },
  {
   "cell_type": "code",
   "execution_count": null,
   "id": "2baa209a-b838-4d1d-a183-9c4d9ee10c58",
   "metadata": {},
   "outputs": [],
   "source": [
    "print(numbers[2:5])"
   ]
  },
  {
   "cell_type": "code",
   "execution_count": null,
   "id": "17ce1ddb-cf0b-494d-84b7-c4d2f4f42941",
   "metadata": {},
   "outputs": [],
   "source": [
    "print(numbers[2:])"
   ]
  },
  {
   "cell_type": "code",
   "execution_count": null,
   "id": "480ec5b6-41a2-49b6-8f85-1e12ceafa57d",
   "metadata": {},
   "outputs": [],
   "source": [
    "print(numbers[:7])"
   ]
  },
  {
   "cell_type": "code",
   "execution_count": null,
   "id": "761ccac6-e83d-48a7-a2e5-778325eb5b28",
   "metadata": {},
   "outputs": [],
   "source": [
    "print(numbers[:])"
   ]
  },
  {
   "cell_type": "code",
   "execution_count": null,
   "id": "ef61a765-73b2-4c93-9eb6-2d11164da5ea",
   "metadata": {},
   "outputs": [],
   "source": [
    "print(numbers[1:5:2])"
   ]
  },
  {
   "cell_type": "code",
   "execution_count": null,
   "id": "ab8cccf9-f087-46f3-9d51-87e07ff33aa9",
   "metadata": {},
   "outputs": [],
   "source": [
    "print(numbers[::-1])"
   ]
  },
  {
   "cell_type": "code",
   "execution_count": null,
   "id": "4525f5e1-52d7-42ab-b655-0aafcb201dff",
   "metadata": {},
   "outputs": [],
   "source": [
    "print(numbers[8:3:-1])"
   ]
  },
  {
   "cell_type": "code",
   "execution_count": null,
   "id": "3b85d231-e065-4244-8bf6-4aaa7a63c307",
   "metadata": {},
   "outputs": [],
   "source": [
    "print(numbers[3:8:-1])"
   ]
  },
  {
   "cell_type": "markdown",
   "id": "2cfa4985-fe4d-4842-8214-8bd55ee82903",
   "metadata": {},
   "source": [
    "# Tuples"
   ]
  },
  {
   "cell_type": "markdown",
   "id": "e12ffdcc-968d-4d51-914e-f6e32f902d65",
   "metadata": {},
   "source": [
    "Tuples are similar to lists except that they are immutable - their values cannot be changes"
   ]
  },
  {
   "cell_type": "code",
   "execution_count": null,
   "id": "1e9a20fe-9bc9-40c4-9262-5b86fbdb78ef",
   "metadata": {},
   "outputs": [],
   "source": [
    "names = ('Curie', 'Darwing', 'Turing')  # typo in Darwin's name\n",
    "print('names is originally:', names)\n"
   ]
  },
  {
   "cell_type": "code",
   "execution_count": null,
   "id": "0579ee89-f38e-4f94-8ed2-491826f9caf2",
   "metadata": {},
   "outputs": [],
   "source": [
    "names[1] = 'Darwin'  # correct the name\n",
    "print('final value of names:', names)"
   ]
  },
  {
   "cell_type": "code",
   "execution_count": null,
   "id": "417f587c-693e-4c6f-98c6-c1e788fa36d2",
   "metadata": {},
   "outputs": [],
   "source": [
    "All functionalies, that does not change the tuple of lists are avilable for tuples "
   ]
  },
  {
   "cell_type": "markdown",
   "id": "c60dd8da-6223-4002-a3e1-3e91a25306f8",
   "metadata": {},
   "source": [
    "> A tuple has all the functionalities of a list, as long as they do not modify the tuple"
   ]
  },
  {
   "cell_type": "markdown",
   "id": "5a94d2cd-fc90-407b-b0ab-dc7034a04f99",
   "metadata": {},
   "source": [
    "## Dictionary\n",
    "\n",
    "Dictionary is an unordered collection of key-value pairs, where each key is unique and is used to retrieve its corresponding value."
   ]
  },
  {
   "cell_type": "code",
   "execution_count": null,
   "id": "13db09e0-83d6-4d09-a42d-c3ebb091364b",
   "metadata": {},
   "outputs": [],
   "source": [
    "person = {\"name\": \"Alice\", \"age\": 25, \"city\": \"New York\"}\n",
    "print(person)"
   ]
  },
  {
   "cell_type": "code",
   "execution_count": null,
   "id": "9d2c38d1-6741-4196-b011-3298873eeb7c",
   "metadata": {},
   "outputs": [],
   "source": [
    "print(person[\"name\"])"
   ]
  },
  {
   "cell_type": "code",
   "execution_count": null,
   "id": "0f7ff716-a657-4d02-8edb-4c3a35b9d9e2",
   "metadata": {},
   "outputs": [],
   "source": [
    "person[\"age\"] = 50\n",
    "print(person)"
   ]
  },
  {
   "cell_type": "code",
   "execution_count": null,
   "id": "92bfec5c-bc8c-4c39-b7f2-c29459eded64",
   "metadata": {},
   "outputs": [],
   "source": [
    "del person[\"city\"]\n",
    "print(person)"
   ]
  },
  {
   "cell_type": "code",
   "execution_count": null,
   "id": "f69fc336-3f2b-442f-a59e-08900ee3d743",
   "metadata": {},
   "outputs": [],
   "source": [
    "print(person.keys())"
   ]
  },
  {
   "cell_type": "code",
   "execution_count": null,
   "id": "6d8ec881-9373-4580-8e25-f9e9a120cf04",
   "metadata": {},
   "outputs": [],
   "source": [
    "print(person.values())"
   ]
  },
  {
   "cell_type": "code",
   "execution_count": null,
   "id": "70a63e3b-1d6a-45b8-842f-3b68c820d5a9",
   "metadata": {},
   "outputs": [],
   "source": [
    "print(person.items())"
   ]
  },
  {
   "cell_type": "markdown",
   "id": "9f0afc23-3aff-4e6e-a480-7a3a71e270c6",
   "metadata": {},
   "source": [
    "> `.items()` returns a list of tuples"
   ]
  },
  {
   "cell_type": "code",
   "execution_count": null,
   "id": "89aef099-d79d-4408-bef4-fcba530c7f3f",
   "metadata": {},
   "outputs": [],
   "source": []
  }
 ],
 "metadata": {
  "kernelspec": {
   "display_name": "Python 3 (ipykernel)",
   "language": "python",
   "name": "python3"
  },
  "language_info": {
   "codemirror_mode": {
    "name": "ipython",
    "version": 3
   },
   "file_extension": ".py",
   "mimetype": "text/x-python",
   "name": "python",
   "nbconvert_exporter": "python",
   "pygments_lexer": "ipython3",
   "version": "3.11.0"
  }
 },
 "nbformat": 4,
 "nbformat_minor": 5
}
