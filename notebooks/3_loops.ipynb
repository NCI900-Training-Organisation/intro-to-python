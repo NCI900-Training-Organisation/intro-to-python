{
 "cells": [
  {
   "cell_type": "markdown",
   "id": "d2ea5912-6f07-4e5b-adf4-557102a5036a",
   "metadata": {},
   "source": [
    "# Loops"
   ]
  },
  {
   "cell_type": "code",
   "execution_count": null,
   "id": "69eee108-eb4b-48f2-be61-f206e93f9464",
   "metadata": {},
   "outputs": [],
   "source": [
    "odds = [1, 3, 5, 7]"
   ]
  },
  {
   "cell_type": "code",
   "execution_count": null,
   "id": "325dbf88-efb3-4a28-877a-65ab734a0c64",
   "metadata": {},
   "outputs": [],
   "source": [
    "print(odds[0])\n",
    "print(odds[1])\n",
    "print(odds[2])\n",
    "print(odds[3])"
   ]
  },
  {
   "cell_type": "code",
   "execution_count": null,
   "id": "7c9ca58d-2aa5-43ac-b009-dc632e9d102f",
   "metadata": {},
   "outputs": [],
   "source": [
    "odds = [1, 3, 5, 7]\n",
    "for num in odds:\n",
    "    print(num)"
   ]
  },
  {
   "cell_type": "markdown",
   "id": "b00c097d-000e-4119-ac15-43ebd2ba86ee",
   "metadata": {},
   "source": [
    "> Indentation in Python is extremely important because it is used to define the structure and scope of your code. Unlike many programming languages that use curly braces {} or other markers to indicate blocks of code (like loops, functions, or conditionals), Python uses indentation to signify which lines of code belong to a particular block"
   ]
  },
  {
   "cell_type": "code",
   "execution_count": null,
   "id": "0302e0c8-a8bc-4027-9060-a6531c422291",
   "metadata": {},
   "outputs": [],
   "source": [
    "for i in range(0, 4): \n",
    "    odds[i] = odds[i] + 1"
   ]
  },
  {
   "cell_type": "code",
   "execution_count": null,
   "id": "45631809-1e0d-4561-8643-268ef902ec44",
   "metadata": {},
   "outputs": [],
   "source": [
    "for num in odds:\n",
    "    print(num)"
   ]
  },
  {
   "cell_type": "code",
   "execution_count": null,
   "id": "e4819b5d-3db6-411e-b0aa-46f6adb907a5",
   "metadata": {},
   "outputs": [],
   "source": [
    "for i in range(0, len(odds)): \n",
    "    odds[i] = odds[i] * 10"
   ]
  },
  {
   "cell_type": "code",
   "execution_count": null,
   "id": "22f90e67-6a07-4540-9eb9-5a02ee9ec9b2",
   "metadata": {},
   "outputs": [],
   "source": [
    "for num in odds:\n",
    "    print(num)"
   ]
  },
  {
   "cell_type": "code",
   "execution_count": null,
   "id": "4692dda5-0b98-41a7-9d3a-29032937a6fa",
   "metadata": {},
   "outputs": [],
   "source": [
    "word = 'oxygen'\n",
    "for letter in word:\n",
    "    print(letter)"
   ]
  },
  {
   "cell_type": "code",
   "execution_count": null,
   "id": "b2b380bf-16b5-4aba-9a70-689b74f09273",
   "metadata": {},
   "outputs": [],
   "source": [
    "age = {\"noah\": 23, \"alice\": 25, \"grace\": 34}\n",
    "\n",
    "for k, v in age.items():\n",
    "    print(\"Key \", k, \"has value \", v)"
   ]
  },
  {
   "cell_type": "code",
   "execution_count": null,
   "id": "bc6e412c-9798-4ef9-aa3e-33af94dceb83",
   "metadata": {},
   "outputs": [],
   "source": []
  },
  {
   "cell_type": "code",
   "execution_count": null,
   "id": "78127c42-2d04-403f-8145-3e077740addd",
   "metadata": {},
   "outputs": [],
   "source": []
  }
 ],
 "metadata": {
  "kernelspec": {
   "display_name": "Python 3 (ipykernel)",
   "language": "python",
   "name": "python3"
  },
  "language_info": {
   "codemirror_mode": {
    "name": "ipython",
    "version": 3
   },
   "file_extension": ".py",
   "mimetype": "text/x-python",
   "name": "python",
   "nbconvert_exporter": "python",
   "pygments_lexer": "ipython3",
   "version": "3.11.0"
  }
 },
 "nbformat": 4,
 "nbformat_minor": 5
}
