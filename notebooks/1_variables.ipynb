{
 "cells": [
  {
   "cell_type": "markdown",
   "id": "7e074f0b-0926-469f-9612-a290a0ea1899",
   "metadata": {},
   "source": [
    "# Variables"
   ]
  },
  {
   "cell_type": "code",
   "execution_count": null,
   "id": "a6207701-5cbd-41d3-bdb4-5dfa3b86e825",
   "metadata": {},
   "outputs": [],
   "source": [
    "2 + 4\n"
   ]
  },
  {
   "cell_type": "code",
   "execution_count": null,
   "id": "f56410ca-d1de-4aa3-97ff-d0c69592f878",
   "metadata": {},
   "outputs": [],
   "source": [
    "a = 2"
   ]
  },
  {
   "cell_type": "code",
   "execution_count": null,
   "id": "9b1fe3d0-a886-462c-a1f8-fc1ebcf03227",
   "metadata": {},
   "outputs": [],
   "source": [
    "print(a)"
   ]
  },
  {
   "cell_type": "code",
   "execution_count": null,
   "id": "371a5e17-b749-4092-883e-0e36ea060151",
   "metadata": {},
   "outputs": [],
   "source": [
    "b = 'abc'\n",
    "print(b)"
   ]
  },
  {
   "cell_type": "code",
   "execution_count": null,
   "id": "9e17f17c-f637-4a9c-a97e-1790b4b0cee6",
   "metadata": {},
   "outputs": [],
   "source": [
    "a = 3.14\n",
    "print(a)"
   ]
  },
  {
   "cell_type": "code",
   "execution_count": null,
   "id": "56ae9c69-3a23-4894-a386-80cea130aa43",
   "metadata": {},
   "outputs": [],
   "source": [
    "Abc = 10\n",
    "abc = 200.54\n"
   ]
  },
  {
   "cell_type": "code",
   "execution_count": null,
   "id": "518c6f0f-842c-4558-ae4d-91fa5cb295b3",
   "metadata": {},
   "outputs": [],
   "source": [
    "print(Abc)"
   ]
  },
  {
   "cell_type": "code",
   "execution_count": null,
   "id": "3725463e-1814-4786-8774-67554a5d166c",
   "metadata": {},
   "outputs": [],
   "source": [
    "print(abc)"
   ]
  },
  {
   "cell_type": "code",
   "execution_count": null,
   "id": "b682da76-e1fd-4464-aaa4-1037dae68c23",
   "metadata": {},
   "outputs": [],
   "source": [
    "_pqr = \"Hello world\"\n",
    "print(_pqr)"
   ]
  },
  {
   "cell_type": "markdown",
   "id": "cb239936-a9a3-4b2f-8ce1-daef68442441",
   "metadata": {},
   "source": [
    "## Types of Variable"
   ]
  },
  {
   "cell_type": "code",
   "execution_count": null,
   "id": "ba11ed62-e00a-4318-a9a4-485945ccd058",
   "metadata": {},
   "outputs": [],
   "source": [
    "type(_pqr)"
   ]
  },
  {
   "cell_type": "code",
   "execution_count": null,
   "id": "47f6c9c4-358a-4c44-b45c-fad6d6c097a8",
   "metadata": {},
   "outputs": [],
   "source": [
    "type(Abc)"
   ]
  },
  {
   "cell_type": "code",
   "execution_count": null,
   "id": "dcd5cdc4-9fc6-4458-a4e8-72d10414a075",
   "metadata": {},
   "outputs": [],
   "source": [
    "type(abc)"
   ]
  },
  {
   "cell_type": "code",
   "execution_count": null,
   "id": "dfd81be2-a4bb-44de-8034-d431da1ce401",
   "metadata": {},
   "outputs": [],
   "source": []
  }
 ],
 "metadata": {
  "kernelspec": {
   "display_name": "Python 3 (ipykernel)",
   "language": "python",
   "name": "python3"
  },
  "language_info": {
   "codemirror_mode": {
    "name": "ipython",
    "version": 3
   },
   "file_extension": ".py",
   "mimetype": "text/x-python",
   "name": "python",
   "nbconvert_exporter": "python",
   "pygments_lexer": "ipython3",
   "version": "3.11.0"
  }
 },
 "nbformat": 4,
 "nbformat_minor": 5
}
