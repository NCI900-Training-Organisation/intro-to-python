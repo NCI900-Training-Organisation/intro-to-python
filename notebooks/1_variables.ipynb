{
 "cells": [
  {
   "cell_type": "markdown",
   "id": "7e074f0b-0926-469f-9612-a290a0ea1899",
   "metadata": {},
   "source": [
    "# Variables"
   ]
  },
  {
   "cell_type": "code",
   "execution_count": null,
   "id": "a6207701-5cbd-41d3-bdb4-5dfa3b86e825",
   "metadata": {},
   "outputs": [],
   "source": [
    "2 + 4\n"
   ]
  },
  {
   "cell_type": "code",
   "execution_count": null,
   "id": "f56410ca-d1de-4aa3-97ff-d0c69592f878",
   "metadata": {},
   "outputs": [],
   "source": [
    "a = 2"
   ]
  },
  {
   "cell_type": "code",
   "execution_count": null,
   "id": "9b1fe3d0-a886-462c-a1f8-fc1ebcf03227",
   "metadata": {},
   "outputs": [],
   "source": [
    "print(a)"
   ]
  },
  {
   "cell_type": "markdown",
   "id": "78d4349a-acf6-46ec-b6ab-652274c72736",
   "metadata": {},
   "source": [
    "In Python, print() is a built-in function that outputs text or other data to the console (or standard output). Built-in functions in Python are functions that are always available — you don't need to import anything to use them. They come built into the Python language itself.\n",
    "\n",
    "\n",
    "*We will cover functions in detail later.* For now, think of a function as a name (like `print`) followed by parentheses, with variables or values inside the parentheses that the function operates on.\n"
   ]
  },
  {
   "cell_type": "code",
   "execution_count": null,
   "id": "371a5e17-b749-4092-883e-0e36ea060151",
   "metadata": {},
   "outputs": [],
   "source": [
    "b = 'abc'\n",
    "print(b)"
   ]
  },
  {
   "cell_type": "code",
   "execution_count": null,
   "id": "9e17f17c-f637-4a9c-a97e-1790b4b0cee6",
   "metadata": {},
   "outputs": [],
   "source": [
    "a = 3.14\n",
    "print(a)"
   ]
  },
  {
   "cell_type": "code",
   "execution_count": null,
   "id": "56ae9c69-3a23-4894-a386-80cea130aa43",
   "metadata": {},
   "outputs": [],
   "source": [
    "Abc = 10\n",
    "abc = 200.54\n"
   ]
  },
  {
   "cell_type": "code",
   "execution_count": null,
   "id": "518c6f0f-842c-4558-ae4d-91fa5cb295b3",
   "metadata": {},
   "outputs": [],
   "source": [
    "print(Abc)"
   ]
  },
  {
   "cell_type": "code",
   "execution_count": null,
   "id": "3725463e-1814-4786-8774-67554a5d166c",
   "metadata": {},
   "outputs": [],
   "source": [
    "print(abc)"
   ]
  },
  {
   "cell_type": "code",
   "execution_count": null,
   "id": "b682da76-e1fd-4464-aaa4-1037dae68c23",
   "metadata": {},
   "outputs": [],
   "source": [
    "_pqr = \"Hello world\"\n",
    "print(_pqr)"
   ]
  },
  {
   "cell_type": "markdown",
   "id": "cb239936-a9a3-4b2f-8ce1-daef68442441",
   "metadata": {},
   "source": [
    "## Types of Variable"
   ]
  },
  {
   "cell_type": "code",
   "execution_count": null,
   "id": "ba11ed62-e00a-4318-a9a4-485945ccd058",
   "metadata": {},
   "outputs": [],
   "source": [
    "type(_pqr)"
   ]
  },
  {
   "cell_type": "code",
   "execution_count": null,
   "id": "47f6c9c4-358a-4c44-b45c-fad6d6c097a8",
   "metadata": {},
   "outputs": [],
   "source": [
    "type(Abc)"
   ]
  },
  {
   "cell_type": "code",
   "execution_count": null,
   "id": "dcd5cdc4-9fc6-4458-a4e8-72d10414a075",
   "metadata": {},
   "outputs": [],
   "source": [
    "type(abc)"
   ]
  },
  {
   "cell_type": "markdown",
   "id": "35f75ba7-9ba0-4903-88fb-22f06edc5f4f",
   "metadata": {},
   "source": [
    "## Using Variables in Python"
   ]
  },
  {
   "cell_type": "code",
   "execution_count": null,
   "id": "06bba649-6ef6-4d42-801b-d93d92559f9c",
   "metadata": {},
   "outputs": [],
   "source": [
    "weight_kg = 60\n",
    "weight_lb = 2.2 * weight_kg\n",
    "print('weight in pounds:', weight_lb)"
   ]
  },
  {
   "cell_type": "code",
   "execution_count": null,
   "id": "cb954ea7-8a9f-443d-a7ea-e7e6c8107c1d",
   "metadata": {},
   "outputs": [],
   "source": [
    "print('weight in kilograms is now:', weight_kg, 'and weight in pounds is still:', weight_lb)"
   ]
  },
  {
   "cell_type": "markdown",
   "id": "89eb9704-cece-4284-85ad-a59516486fe4",
   "metadata": {},
   "source": [
    "## Assigning multiple variables"
   ]
  },
  {
   "cell_type": "code",
   "execution_count": null,
   "id": "a7d3237f-aa3c-46c3-8b75-66e6f3d64dec",
   "metadata": {},
   "outputs": [],
   "source": [
    "first, second, third = 2, 3.14, 'Morning'\n",
    "\n",
    "print(first)\n",
    "print(second)\n",
    "print(third)"
   ]
  },
  {
   "cell_type": "code",
   "execution_count": null,
   "id": "8cc6f1a9-c29c-4001-b519-23510d534121",
   "metadata": {},
   "outputs": [],
   "source": [
    "print(first + second)"
   ]
  },
  {
   "cell_type": "code",
   "execution_count": null,
   "id": "47a807e5-40f8-4c4d-9954-e26bdb307fc5",
   "metadata": {},
   "outputs": [],
   "source": [
    "print(first + third)"
   ]
  },
  {
   "cell_type": "code",
   "execution_count": null,
   "id": "dbbb3203-58b7-4a16-bc16-ffdac4fd1f43",
   "metadata": {},
   "outputs": [],
   "source": []
  }
 ],
 "metadata": {
  "kernelspec": {
   "display_name": "Python 3 (ipykernel)",
   "language": "python",
   "name": "python3"
  },
  "language_info": {
   "codemirror_mode": {
    "name": "ipython",
    "version": 3
   },
   "file_extension": ".py",
   "mimetype": "text/x-python",
   "name": "python",
   "nbconvert_exporter": "python",
   "pygments_lexer": "ipython3",
   "version": "3.11.0"
  }
 },
 "nbformat": 4,
 "nbformat_minor": 5
}
