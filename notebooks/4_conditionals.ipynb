{
 "cells": [
  {
   "cell_type": "code",
   "execution_count": null,
   "id": "92882943-496c-41b9-862b-1d8a28340463",
   "metadata": {},
   "outputs": [],
   "source": [
    "import os\n",
    "os.chdir(f'/scratch/vp91/{os.environ[\"USER\"]}/intro-to-python')\n"
   ]
  },
  {
   "cell_type": "markdown",
   "id": "2fa1c54a-f356-4fcf-8a2b-5a2b8de2ed16",
   "metadata": {},
   "source": [
    "> The import statement in Python is used to bring in external modules, libraries, or specific functions that you want to use in your code. This allows you to access pre-written code, which can be useful for performing tasks"
   ]
  },
  {
   "cell_type": "markdown",
   "id": "7c9b9505-622f-48d4-86dc-2286071a05c5",
   "metadata": {},
   "source": [
    "# Conditionals"
   ]
  },
  {
   "cell_type": "code",
   "execution_count": null,
   "id": "f9bb7a3a-e5f6-41cb-af35-8f1ddf523117",
   "metadata": {},
   "outputs": [],
   "source": [
    "if (True):\n",
    "    print('condition statisfied')\n",
    "else:\n",
    "    print('condition not statisfied')"
   ]
  },
  {
   "cell_type": "code",
   "execution_count": null,
   "id": "d1fc4b44-2d36-4cf9-820c-781c54c25878",
   "metadata": {},
   "outputs": [],
   "source": [
    "if (False):\n",
    "    print('condition statisfied')\n",
    "else:\n",
    "    print('condition not statisfied')"
   ]
  },
  {
   "cell_type": "code",
   "execution_count": null,
   "id": "cc8feb8f-c638-4080-a246-d2a0ac4fa87d",
   "metadata": {},
   "outputs": [],
   "source": [
    "num = 37\n",
    "if num > 100:\n",
    "    print('greater')\n",
    "else:\n",
    "    print('not greater')\n",
    "print('done')"
   ]
  },
  {
   "cell_type": "code",
   "execution_count": null,
   "id": "05a929ec-4d18-4c29-a4c8-714c5fb38c1f",
   "metadata": {},
   "outputs": [],
   "source": [
    "from IPython.display import Image\n",
    "Image(filename='./docs/source/figs/if_else.png')"
   ]
  },
  {
   "cell_type": "markdown",
   "id": "085b797a-ac23-40df-a8be-888905eb42ff",
   "metadata": {},
   "source": [
    "## Multiple Conditions "
   ]
  },
  {
   "cell_type": "code",
   "execution_count": null,
   "id": "7515b957-0806-4011-bf99-26adf67b07c7",
   "metadata": {},
   "outputs": [],
   "source": [
    "num = 10\n",
    "\n",
    "if (num > 20) and (num < 50):\n",
    "    print('condition satisfied')\n",
    "\n",
    "print('after if blocks')"
   ]
  },
  {
   "cell_type": "markdown",
   "id": "bab2ef81-8cb0-4d3a-915a-618b15855acd",
   "metadata": {},
   "source": [
    "> 'and' means both conditions should be true to execute the if-block"
   ]
  },
  {
   "cell_type": "code",
   "execution_count": null,
   "id": "97809af6-dfd7-4092-965c-9a67c1a981d9",
   "metadata": {},
   "outputs": [],
   "source": [
    "num = 10\n",
    "\n",
    "if (num == 20) or (num > 50):\n",
    "    print('condition satisfied')\n",
    "\n",
    "print('after if blocks')"
   ]
  },
  {
   "cell_type": "markdown",
   "id": "040a5fae-5575-4f3a-8f65-a6aa2e0a3567",
   "metadata": {},
   "source": [
    "> 'or' means only one of the conditions needs be true to execute the if-block"
   ]
  },
  {
   "cell_type": "markdown",
   "id": "21a10fac-75ee-4e54-a2d8-e829c752ac98",
   "metadata": {},
   "source": [
    "## If-else ladder"
   ]
  },
  {
   "cell_type": "code",
   "execution_count": null,
   "id": "31820ea3-4881-4aeb-aa63-b4f31a0dcd9b",
   "metadata": {},
   "outputs": [],
   "source": [
    "num = 10\n",
    "\n",
    "if num > 5:\n",
    "    print('A')\n",
    "elif num == 5:\n",
    "    print('B')\n",
    "elif num < 5:\n",
    "    print('C')"
   ]
  },
  {
   "cell_type": "code",
   "execution_count": null,
   "id": "607872f1-0a85-49f9-9c67-ceb421ec4c90",
   "metadata": {},
   "outputs": [],
   "source": [
    "num = 5\n",
    "\n",
    "if num > 5:\n",
    "    print('A')\n",
    "elif num < 5:\n",
    "     print('C')\n",
    "else:\n",
    "    print('D')"
   ]
  },
  {
   "cell_type": "markdown",
   "id": "08701fd8-bf58-461f-9025-7b9fe1a2dbc4",
   "metadata": {},
   "source": [
    "## What is true?"
   ]
  },
  {
   "cell_type": "code",
   "execution_count": null,
   "id": "102ad6d4-0c2f-47c7-be71-a6d1ceef2672",
   "metadata": {},
   "outputs": [],
   "source": [
    "if '':\n",
    "    print('empty string is true')\n"
   ]
  },
  {
   "cell_type": "code",
   "execution_count": null,
   "id": "853f0c1c-3407-48f5-8339-4e69be0f0e9a",
   "metadata": {},
   "outputs": [],
   "source": [
    "if 'word':\n",
    "    print('word is true')"
   ]
  },
  {
   "cell_type": "code",
   "execution_count": null,
   "id": "417b49da-f750-4712-bc65-5a9cf30d1b6d",
   "metadata": {},
   "outputs": [],
   "source": [
    "if []:\n",
    "    print('empty list is true')"
   ]
  },
  {
   "cell_type": "code",
   "execution_count": null,
   "id": "149481bb-a171-40a6-a84e-358d90b3bc9a",
   "metadata": {},
   "outputs": [],
   "source": [
    "if [1, 2, 3]:\n",
    "    print('non-empty list is true')"
   ]
  },
  {
   "cell_type": "code",
   "execution_count": null,
   "id": "8ad1ef24-6ba6-4195-a380-4e521e8204c3",
   "metadata": {},
   "outputs": [],
   "source": [
    "if 0:\n",
    "    print('zero is true')"
   ]
  },
  {
   "cell_type": "code",
   "execution_count": null,
   "id": "ac64cc3c-bb55-4631-805e-f61be34e7b49",
   "metadata": {},
   "outputs": [],
   "source": [
    "if 1:\n",
    "    print('one is true')"
   ]
  },
  {
   "cell_type": "code",
   "execution_count": null,
   "id": "36b4ea0e-7b34-46f3-99de-3c8e7f832f68",
   "metadata": {},
   "outputs": [],
   "source": [
    "if not '':\n",
    "    print('empty string is not true')"
   ]
  },
  {
   "cell_type": "code",
   "execution_count": null,
   "id": "c9ac5e15-fa2b-43a5-ade5-81c2458fe12f",
   "metadata": {},
   "outputs": [],
   "source": [
    "if not 'word':\n",
    "    print('word is not true')"
   ]
  },
  {
   "cell_type": "code",
   "execution_count": null,
   "id": "51b9cc4d-a0a3-4c9d-8d26-dc8ed9211d48",
   "metadata": {},
   "outputs": [],
   "source": [
    "if not not True:\n",
    "    print('not not True is true')"
   ]
  },
  {
   "cell_type": "code",
   "execution_count": null,
   "id": "329865a2-8cd5-4dfa-bfad-f506adbaab99",
   "metadata": {},
   "outputs": [],
   "source": []
  }
 ],
 "metadata": {
  "kernelspec": {
   "display_name": "Python 3 (ipykernel)",
   "language": "python",
   "name": "python3"
  },
  "language_info": {
   "codemirror_mode": {
    "name": "ipython",
    "version": 3
   },
   "file_extension": ".py",
   "mimetype": "text/x-python",
   "name": "python",
   "nbconvert_exporter": "python",
   "pygments_lexer": "ipython3",
   "version": "3.11.0"
  }
 },
 "nbformat": 4,
 "nbformat_minor": 5
}
