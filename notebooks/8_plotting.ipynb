{
 "cells": [
  {
   "cell_type": "markdown",
   "id": "2627f478-fb03-4bc5-b146-84da15481849",
   "metadata": {},
   "source": [
    "# Plotting"
   ]
  },
  {
   "cell_type": "code",
   "execution_count": null,
   "id": "7dd3d3aa-cf76-4e54-aae3-0268f85b6bf2",
   "metadata": {},
   "outputs": [],
   "source": [
    "import os\n",
    "import numpy as np\n",
    "import matplotlib.pyplot as plt\n",
    "import pandas as pd"
   ]
  },
  {
   "cell_type": "code",
   "execution_count": null,
   "id": "13448753-6467-4316-b132-29033fee2b64",
   "metadata": {},
   "outputs": [],
   "source": [
    "os.chdir(os.path.expandvars(\"/scratch/vp91/$USER/\"))"
   ]
  },
  {
   "cell_type": "code",
   "execution_count": null,
   "id": "dfe7c70c-2e18-4403-8322-e072881e4fd1",
   "metadata": {},
   "outputs": [],
   "source": [
    "# Generate some data\n",
    "x = np.linspace(0, 10, 100)  # 100 points between 0 and 10\n",
    "y = np.sin(x)                # sine function\n",
    "\n",
    "# Create the plot\n",
    "plt.plot(x, y)\n",
    "\n",
    "# Add labels and title\n",
    "plt.xlabel('x-axis')\n",
    "plt.ylabel('y-axis')\n",
    "plt.title('Sine Wave')\n",
    "\n",
    "# Show a grid\n",
    "plt.grid(True)\n",
    "\n",
    "# Display the plot\n",
    "plt.show()"
   ]
  },
  {
   "cell_type": "code",
   "execution_count": null,
   "id": "b4147ea1-54fb-4140-9dbf-af6ae2dd51e7",
   "metadata": {},
   "outputs": [],
   "source": [
    "\n",
    "\n",
    "# Create a simple DataFrame\n",
    "data = {\n",
    "    'x': np.linspace(0, 10, 100),\n",
    "    'y': np.sin(np.linspace(0, 10, 100))\n",
    "}\n",
    "df = pd.DataFrame(data)\n",
    "\n",
    "# Plot directly from Pandas\n",
    "df.plot(x='x', y='y', title='Sine Wave from DataFrame')\n",
    "\n",
    "# Show the plot\n",
    "plt.show()\n"
   ]
  },
  {
   "cell_type": "code",
   "execution_count": null,
   "id": "6f58ba1c-ed86-4a2c-b08a-d60c26020f26",
   "metadata": {},
   "outputs": [],
   "source": [
    "# Create random data\n",
    "x = np.random.rand(50)\n",
    "y = np.random.rand(50)\n",
    "\n",
    "# Create scatter plot\n",
    "plt.scatter(x, y, color='red', marker='o')\n",
    "\n",
    "plt.xlabel('x-axis')\n",
    "plt.ylabel('y-axis')\n",
    "plt.title('Random Scatter Plot')\n",
    "plt.grid(True)\n",
    "plt.show()"
   ]
  },
  {
   "cell_type": "code",
   "execution_count": null,
   "id": "0dc2369a-cda9-4581-b4dd-338a5d30b9bb",
   "metadata": {},
   "outputs": [],
   "source": [
    "# Some data\n",
    "categories = ['Apples', 'Bananas', 'Cherries', 'Dates']\n",
    "values = [5, 7, 3, 4]\n",
    "\n",
    "# Create bar chart\n",
    "plt.bar(categories, values, color='purple')\n",
    "\n",
    "plt.xlabel('Fruits')\n",
    "plt.ylabel('Quantity')\n",
    "plt.title('Fruit Count')\n",
    "plt.show()"
   ]
  },
  {
   "cell_type": "code",
   "execution_count": null,
   "id": "26bc3e8b-c863-4d68-815f-4c1ab829c6cf",
   "metadata": {},
   "outputs": [],
   "source": [
    "\n",
    "\n",
    "# Data\n",
    "x = np.linspace(0, 10, 100)\n",
    "y1 = np.sin(x)\n",
    "y2 = np.cos(x)\n",
    "\n",
    "# Create multiple plots\n",
    "plt.plot(x, y1, label='sin(x)')\n",
    "plt.plot(x, y2, label='cos(x)', linestyle='--')\n",
    "\n",
    "plt.xlabel('x-axis')\n",
    "plt.ylabel('y-axis')\n",
    "plt.title('Sine and Cosine Waves')\n",
    "plt.legend()\n",
    "plt.grid(True)\n",
    "plt.show()\n"
   ]
  },
  {
   "cell_type": "code",
   "execution_count": null,
   "id": "498a4cb2-fd30-451e-9ad5-b60ce45529f6",
   "metadata": {},
   "outputs": [],
   "source": [
    "import numpy as np\n",
    "import matplotlib.pyplot as plt\n",
    "\n",
    "# Set a style\n",
    "plt.style.use('seaborn-v0_8')\n",
    "\n",
    "# Data\n",
    "x = np.linspace(0, 10, 100)\n",
    "y = np.sin(x) + 0.5 * np.random.randn(100)\n",
    "\n",
    "# Plot\n",
    "plt.plot(x, y, color='green')\n",
    "plt.xlabel('x-axis')\n",
    "plt.ylabel('y-axis')\n",
    "plt.title('Fancy Styled Plot (Seaborn)')\n",
    "plt.grid(True)\n",
    "plt.show()\n"
   ]
  },
  {
   "cell_type": "code",
   "execution_count": null,
   "id": "98471f66-6c25-4058-8b49-c788348e9073",
   "metadata": {},
   "outputs": [],
   "source": [
    "print(plt.style.available)\n"
   ]
  },
  {
   "cell_type": "code",
   "execution_count": null,
   "id": "f07a832b-544d-4330-9c36-3f6b565df9c1",
   "metadata": {},
   "outputs": [],
   "source": [
    "x = np.linspace(0, 10, 100)\n",
    "y = np.sin(x)\n",
    "\n",
    "# Create plot\n",
    "plt.plot(x, y)\n",
    "plt.title('Saving a Plot Example')\n",
    "\n",
    "# Save the figure BEFORE plt.show()\n",
    "plt.savefig('sine_wave.png')  # Saves as PNG\n",
    "plt.savefig('sine_wave.pdf')  # Saves as PDF\n",
    "\n",
    "# Display\n",
    "plt.show()"
   ]
  },
  {
   "cell_type": "code",
   "execution_count": null,
   "id": "5ef96bae-08c5-443e-ad69-384192a614ac",
   "metadata": {},
   "outputs": [],
   "source": []
  }
 ],
 "metadata": {
  "kernelspec": {
   "display_name": "Python 3 (ipykernel)",
   "language": "python",
   "name": "python3"
  },
  "language_info": {
   "codemirror_mode": {
    "name": "ipython",
    "version": 3
   },
   "file_extension": ".py",
   "mimetype": "text/x-python",
   "name": "python",
   "nbconvert_exporter": "python",
   "pygments_lexer": "ipython3",
   "version": "3.11.0"
  }
 },
 "nbformat": 4,
 "nbformat_minor": 5
}
