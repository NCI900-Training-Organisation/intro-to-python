{
 "cells": [
  {
   "cell_type": "markdown",
   "id": "ac7bf867-721d-48af-9eec-c2d3c891cdd2",
   "metadata": {},
   "source": [
    "# Numpy"
   ]
  },
  {
   "cell_type": "code",
   "execution_count": null,
   "id": "6ff5408f-ab7c-4826-a3f8-7dc46f62d7aa",
   "metadata": {},
   "outputs": [],
   "source": [
    "import numpy as np"
   ]
  },
  {
   "cell_type": "markdown",
   "id": "902a96bd-14c7-4d04-97b7-16a66fba2376",
   "metadata": {},
   "source": [
    "## Creating numpy arrays"
   ]
  },
  {
   "cell_type": "code",
   "execution_count": null,
   "id": "ddfa1865-7c30-4af6-88b1-59ba978b9557",
   "metadata": {},
   "outputs": [],
   "source": [
    "# From list\n",
    "arr = np.array([1, 2, 3])\n",
    "print(\"from list : \", arr)"
   ]
  },
  {
   "cell_type": "code",
   "execution_count": null,
   "id": "aa0eab20-d3c5-40fa-93dc-856691c821a4",
   "metadata": {},
   "outputs": [],
   "source": [
    "# From tuple\n",
    "arr = np.array((1, 2, 3, 4, 5))\n",
    "print(\"from tuple : \", arr)"
   ]
  },
  {
   "cell_type": "code",
   "execution_count": null,
   "id": "bfbbc78d-517f-4ca6-b254-fd5cfe022a34",
   "metadata": {},
   "outputs": [],
   "source": [
    "# Initialise\n",
    "arr = np.zeros((2, 3))\n",
    "print(\"Initialise zeros : \")\n",
    "print(arr)"
   ]
  },
  {
   "cell_type": "code",
   "execution_count": null,
   "id": "a27397b7-0415-465b-a986-d6e781ac8d6d",
   "metadata": {},
   "outputs": [],
   "source": [
    "arr = np.ones((2, 3))\n",
    "print(\"Initialise ones : \", arr)"
   ]
  },
  {
   "cell_type": "code",
   "execution_count": null,
   "id": "b160605f-69ea-4296-9f6a-2bc747933e8d",
   "metadata": {},
   "outputs": [],
   "source": [
    "arr = np.empty((2, 3))\n",
    "print(\"Empty array : \", arr)"
   ]
  },
  {
   "cell_type": "code",
   "execution_count": null,
   "id": "a42d7b39-031a-46bb-813a-661010f97c69",
   "metadata": {},
   "outputs": [],
   "source": [
    "arr = np.identity(3)\n",
    "print(\"Identity matrix : \", arr)"
   ]
  },
  {
   "cell_type": "code",
   "execution_count": null,
   "id": "829946d7-1dfd-4fc2-874d-2057909d3d9f",
   "metadata": {},
   "outputs": [],
   "source": [
    "start = 0\n",
    "stop = 10\n",
    "step = 3\n",
    "arr = np.arange(start, stop, step)\n",
    "print(\"Arrange : \", arr)"
   ]
  },
  {
   "cell_type": "code",
   "execution_count": null,
   "id": "52ebe18c-666e-4a04-b228-4cffa2b646d8",
   "metadata": {},
   "outputs": [],
   "source": [
    "# Generate 5 values evenly spaced between 0 and 10, inclusive\n",
    "arr = np.linspace(0, 10, num=5)\n",
    "print(\"Numspace : \", arr)"
   ]
  },
  {
   "cell_type": "code",
   "execution_count": null,
   "id": "750c046c-238b-40e1-9dd1-c74eb6a73192",
   "metadata": {},
   "outputs": [],
   "source": [
    "# Random numbers\n",
    "\n",
    "arr = np.random.rand(3, 2) # values between 0 and 1\n",
    "print(\"Random : \", arr)"
   ]
  },
  {
   "cell_type": "code",
   "execution_count": null,
   "id": "6d40de31-a530-44dc-985c-a6ac7d405bc3",
   "metadata": {},
   "outputs": [],
   "source": [
    "arr = np.random.randint(1, 10, size=(3, 2)) # values between 2 numbers\n",
    "print(\"Random : \", arr)"
   ]
  },
  {
   "cell_type": "code",
   "execution_count": null,
   "id": "503c1881-395c-428d-a553-bd8a064068b9",
   "metadata": {},
   "outputs": [],
   "source": [
    "# Generate random floats between 1 and 10\n",
    "arr = 1 + 9 * np.random.rand(3, 2)\n",
    "print(\"\\n Random : \")\n",
    "print(arr)"
   ]
  },
  {
   "cell_type": "code",
   "execution_count": null,
   "id": "a913c104-8f41-4f71-aa5c-fd3a2354faa0",
   "metadata": {},
   "outputs": [],
   "source": []
  },
  {
   "cell_type": "markdown",
   "id": "b8502f7e-72da-470c-8e5a-e64b2aa6bbcf",
   "metadata": {},
   "source": [
    "## Attributes"
   ]
  },
  {
   "cell_type": "code",
   "execution_count": null,
   "id": "3f833f8c-63b1-4a55-9bae-00629cc52f5a",
   "metadata": {},
   "outputs": [],
   "source": [
    "arr = np.random.rand(3, 2)"
   ]
  },
  {
   "cell_type": "code",
   "execution_count": null,
   "id": "ed92469d-af36-4b90-9e98-eca1c7b6fba6",
   "metadata": {},
   "outputs": [],
   "source": [
    "print(\"Shape : \", arr.shape)"
   ]
  },
  {
   "cell_type": "code",
   "execution_count": null,
   "id": "4eb5b727-83b7-4d73-a299-4626f552f7cf",
   "metadata": {},
   "outputs": [],
   "source": [
    "print(\"Size : \", arr.size)"
   ]
  },
  {
   "cell_type": "code",
   "execution_count": null,
   "id": "1a5507f6-8f3c-4a58-8cdd-37e6330f15f4",
   "metadata": {},
   "outputs": [],
   "source": [
    "print(\"Dim : \", arr.ndim)"
   ]
  },
  {
   "cell_type": "code",
   "execution_count": null,
   "id": "5e1d0727-7ec5-4a43-a46b-636255c1344b",
   "metadata": {},
   "outputs": [],
   "source": [
    "print(\"Type : \", arr.dtype)"
   ]
  },
  {
   "cell_type": "code",
   "execution_count": null,
   "id": "debb98f3-a4f4-44e5-88fb-8b9f103ad1b5",
   "metadata": {},
   "outputs": [],
   "source": [
    "print(\"Item size : \", arr.itemsize)"
   ]
  },
  {
   "cell_type": "markdown",
   "id": "f40c2eed-fb13-44b8-b2a7-e058bfc16c54",
   "metadata": {},
   "source": [
    "## Shape"
   ]
  },
  {
   "cell_type": "code",
   "execution_count": null,
   "id": "0f4829bb-4d54-4d8b-92e9-9b27ac63fecd",
   "metadata": {},
   "outputs": [],
   "source": [
    "arr = np.random.rand(3, 4)\n",
    "print(\"Array : \", arr)"
   ]
  },
  {
   "cell_type": "code",
   "execution_count": null,
   "id": "390c7ae4-9388-449a-88e0-948f729bcd8b",
   "metadata": {},
   "outputs": [],
   "source": [
    "arr = arr.reshape((6, 2))\n",
    "print(\"Array : \", arr)"
   ]
  },
  {
   "cell_type": "markdown",
   "id": "f8b293df-44eb-496b-81c3-0dee08674edd",
   "metadata": {},
   "source": [
    "> reshape does not always create a copy in NumPy.\n",
    "\n",
    "> If the array can be reshaped without changing the underlying data layout (i.e., the elements are \n",
    "still stored in contiguous memory for the new shape), reshape will return a view of the original \n",
    "array. This means that modifying the reshaped array will also affect the original array.\n",
    "\n",
    "> If the requested shape is incompatible with the data's memory layout (e.g., the elements are not \n",
    "contiguous in the desired order), reshape will create a copy of the data with the new shape."
   ]
  },
  {
   "cell_type": "code",
   "execution_count": null,
   "id": "17f461e0-7a6a-4c1c-83c7-a87afebed271",
   "metadata": {},
   "outputs": [],
   "source": [
    "reshaped_copy = arr.reshape(2, 6).copy() # force a copy\n",
    "print(\"Reshaped copy: \", reshaped_copy)\n"
   ]
  },
  {
   "cell_type": "code",
   "execution_count": null,
   "id": "d2d3a17a-9305-44b7-8e3a-19ff94be235a",
   "metadata": {},
   "outputs": [],
   "source": [
    "arr1 = arr.flatten()\n",
    "print(\"Flatten : \", arr1)"
   ]
  },
  {
   "cell_type": "markdown",
   "id": "f649b245-6116-4e53-8f7d-427fe1bf32e9",
   "metadata": {},
   "source": [
    "> creates a new, independent 1-D array with the data in a single dimension. "
   ]
  },
  {
   "cell_type": "code",
   "execution_count": null,
   "id": "bb378c47-d16a-4648-92d6-1770a7913b16",
   "metadata": {},
   "outputs": [],
   "source": [
    "print(arr)"
   ]
  },
  {
   "cell_type": "code",
   "execution_count": null,
   "id": "5e92559e-51fa-4502-be66-156c64d0c50d",
   "metadata": {},
   "outputs": [],
   "source": [
    "print(arr.T)"
   ]
  },
  {
   "cell_type": "code",
   "execution_count": null,
   "id": "1895c90d-6500-4396-b077-a96048a3fdac",
   "metadata": {},
   "outputs": [],
   "source": [
    "arr = np.arange(6)\n",
    "arr.resize(3, 3)  # Resize to 3x3, filling with zeros\n",
    "print(\"Resize : \", arr)"
   ]
  },
  {
   "cell_type": "markdown",
   "id": "6bd21930-18a0-4612-858a-c1daa9235386",
   "metadata": {},
   "source": [
    "> resize modifies the original array in-place.\n",
    "\n",
    "> If the new shape has more elements than the original array, the array is resized, and the new \n",
    "elements are filled with zeros. If it has fewer elements, the array is truncated to fit the new \n",
    "shape.\n",
    "\n",
    "> Resize doesn't require that the number of elements stay the same. The resize method alters the \n",
    "original array, potentially adding or removing elements.\n"
   ]
  },
  {
   "cell_type": "markdown",
   "id": "08f5fd8b-38c9-4323-aa89-41550b260063",
   "metadata": {},
   "source": [
    "## Indexing"
   ]
  },
  {
   "cell_type": "code",
   "execution_count": null,
   "id": "6f1a3521-ca73-4699-9df8-d410b0f06b24",
   "metadata": {},
   "outputs": [],
   "source": [
    "# Sample array for demonstrations\n",
    "array = np.arange(10).reshape(2, 5)  # 2x5 array with values from 0 to 9\n",
    "print(\"Original Array: \\n\", array)\n",
    "\n"
   ]
  },
  {
   "cell_type": "code",
   "execution_count": null,
   "id": "846fa0cb-0cf3-4656-aab9-a6f4ad08a659",
   "metadata": {},
   "outputs": [],
   "source": [
    "\n",
    "# Basic Indexing \n",
    "# Access specific elements by row and column indices\n",
    "\n",
    "print(\"Element at (0, 1):\", array[0, 1])  # Element at row 0, column 1 (value 1)\n",
    "print(\"Element at (1, 3):\", array[1, 3])  # Element at row 1, column 3 (value 8)\n",
    "\n"
   ]
  },
  {
   "cell_type": "code",
   "execution_count": null,
   "id": "0195e428-a1c5-4c8c-8a87-64d7a51d5360",
   "metadata": {},
   "outputs": [],
   "source": [
    "# Slice rows and columns\n",
    "print(\"First row:\", array[0, :])  # All elements in the first row\n",
    "print(\"Last column:\", array[:, -1])  # All elements in the last column\n",
    "\n"
   ]
  },
  {
   "cell_type": "code",
   "execution_count": null,
   "id": "924cd1a7-e0d5-49ee-b2ff-e7af11847d9a",
   "metadata": {},
   "outputs": [],
   "source": [
    "# Slicing with start, stop, and step \n",
    "print(\"Array[0, 1:5:2]:\", array[0, 1:5:2])  # Slice from column 1 to 5 with step 2 on first row\n",
    "\n"
   ]
  },
  {
   "cell_type": "code",
   "execution_count": null,
   "id": "2aa85ece-d234-44f3-9eb7-aa029a787f27",
   "metadata": {},
   "outputs": [],
   "source": [
    "# Negative step (reversing)\n",
    "print(\"Reverse last row:\", array[1, ::-1])  # Last row, reversed\n",
    "\n"
   ]
  },
  {
   "cell_type": "code",
   "execution_count": null,
   "id": "54c15bfb-911b-4000-bda4-d72be774d56a",
   "metadata": {},
   "outputs": [],
   "source": [
    "#Boolean Indexing \n",
    "\n",
    "# Mask elements greater than 5\n",
    "mask = array > 5\n",
    "print(\"Elements greater than 5:\", array[mask])  # Only elements where the condition is True\n",
    "\n"
   ]
  },
  {
   "cell_type": "code",
   "execution_count": null,
   "id": "d006b0f5-48c6-48bc-8645-316bdffb8563",
   "metadata": {},
   "outputs": [],
   "source": [
    "# Set elements greater than 5 to 0\n",
    "array[mask] = 0\n",
    "print(\"Array after setting elements > 5 to 0:\\n\", array)"
   ]
  },
  {
   "cell_type": "markdown",
   "id": "489f80f5-38e4-4a2d-915e-6462ad2e23f9",
   "metadata": {},
   "source": [
    "## Operations (Sample)"
   ]
  },
  {
   "cell_type": "code",
   "execution_count": null,
   "id": "6540af56-f3a8-4b82-b576-8c830f8c522c",
   "metadata": {},
   "outputs": [],
   "source": [
    "a = np.array([1, 2, 3])\n",
    "b = np.array([4, 5, 6])\n",
    "\n"
   ]
  },
  {
   "cell_type": "code",
   "execution_count": null,
   "id": "04cb8a19-a188-400f-9ac9-cb5cedc04936",
   "metadata": {},
   "outputs": [],
   "source": [
    "print(\"Addition:\", np.add(a, b))         \n",
    "print(\"Subtraction:\", np.subtract(a, b)) \n",
    "print(\"Multiplication:\", np.multiply(a, b))  \n",
    "print(\"Division:\", np.divide(a, b))      \n",
    "\n"
   ]
  },
  {
   "cell_type": "code",
   "execution_count": null,
   "id": "72fc6d89-6c3a-43a6-bb7f-531c2173567f",
   "metadata": {},
   "outputs": [],
   "source": [
    "\n",
    "a = np.array([1, 4, 9])\n",
    "\n",
    "print(\"Power (squared):\", np.power(a, 2)) \n",
    "print(\"Exponential:\", np.exp(a))          \n",
    "print(\"Square root:\", np.sqrt(a))         \n",
    "\n"
   ]
  },
  {
   "cell_type": "code",
   "execution_count": null,
   "id": "192bfea7-91da-460f-971f-3e780ee860d7",
   "metadata": {},
   "outputs": [],
   "source": [
    "a = np.array([1, 10, 100])\n",
    "\n",
    "print(\"Natural Log:\", np.log(a))      # Natural logarithm (base e) of each element.\n",
    "print(\"Log base 10:\", np.log10(a))    # Base-10 logarithm of each element.\n",
    "print(\"Log base 2:\", np.log2(a))      # Base-2 logarithm of each element.\n",
    "\n",
    "\n"
   ]
  },
  {
   "cell_type": "code",
   "execution_count": null,
   "id": "6fdb66d0-f4d6-414d-b1de-d428b8f49e55",
   "metadata": {},
   "outputs": [],
   "source": [
    "a = np.array([0, np.pi/2, np.pi])\n",
    "\n",
    "print(\"Sine:\", np.sin(a))      \n",
    "print(\"Cosine:\", np.cos(a))    \n",
    "print(\"Tangent:\", np.tan(a))   \n",
    "\n"
   ]
  },
  {
   "cell_type": "code",
   "execution_count": null,
   "id": "769851df-6f6c-4172-a698-2b130afb0d8d",
   "metadata": {},
   "outputs": [],
   "source": [
    "\n",
    "a = np.array([1.2, 2.5, 3.6, 4.7])\n",
    "\n",
    "print(\"Rounded:\", np.round(a))      \n",
    "print(\"Floor:\", np.floor(a))        \n",
    "print(\"Ceil:\", np.ceil(a))          \n",
    "print(\"Truncated:\", np.trunc(a))    \n",
    "\n",
    "\n"
   ]
  },
  {
   "cell_type": "code",
   "execution_count": null,
   "id": "27a9a7fa-6d6a-48fb-b0df-38ec722a671f",
   "metadata": {},
   "outputs": [],
   "source": [
    "\n",
    "a = np.array([[1, 2, 3], [4, 5, 6]])\n",
    "\n",
    "print(\"Sum:\", np.sum(a))             \n",
    "print(\"Mean:\", np.mean(a))            \n",
    "print(\"Median:\", np.median(a))        \n",
    "print(\"Standard Deviation:\", np.std(a)) \n",
    "print(\"Minimum:\", np.min(a))         \n",
    "print(\"Maximum:\", np.max(a))   \n",
    "\n",
    "\n"
   ]
  },
  {
   "cell_type": "code",
   "execution_count": null,
   "id": "87dd1911-1165-4a5f-a199-cb83c6c72e99",
   "metadata": {},
   "outputs": [],
   "source": [
    "a = np.array([1, 2, 3])\n",
    "b = np.array([[1], [2], [3]])\n",
    "\n",
    "# The smaller array `a` is stretched to match the shape of `b`.\n",
    "print(\"Broadcasted addition:\\n\", a + b)  # "
   ]
  },
  {
   "cell_type": "markdown",
   "id": "158e1650-e377-437b-9465-bea38229f55c",
   "metadata": {},
   "source": [
    "## Sorting"
   ]
  },
  {
   "cell_type": "code",
   "execution_count": null,
   "id": "24e044be-6b16-42a9-85f7-669f2fec7973",
   "metadata": {},
   "outputs": [],
   "source": [
    "a = [3, 1, 2]\n",
    "b = np.sort(a)\n",
    "\n",
    "print(\"Original array:\", a) \n",
    "print(\"Sorted array:\", b) \n",
    "\n"
   ]
  },
  {
   "cell_type": "code",
   "execution_count": null,
   "id": "183d1d81-e3de-49f8-8c57-5f6081f9a7ad",
   "metadata": {},
   "outputs": [],
   "source": [
    "# in-place sorting\n",
    "a = np.array([3, 1, 2])\n",
    "b = a.sort()\n",
    "\n",
    "print(\"Original array:\", a) \n",
    "print(\"Sorted array:\", b) \n",
    "\n"
   ]
  },
  {
   "cell_type": "code",
   "execution_count": null,
   "id": "4333116c-efbe-4d82-8e49-74da69d30071",
   "metadata": {},
   "outputs": [],
   "source": [
    "# structured array sorting\n",
    "data = np.array([(1, 'Alice', 92), (2, 'Bob', 85), (3, 'Charlie', 87)],\n",
    "                dtype=[('id', 'i4'), ('name', 'U10'), ('score', 'i4')])\n",
    "\n",
    "sorted_data = np.sort(data, order='score')\n",
    "\n",
    "print(\"Original array:\", data) \n",
    "print(\"Sorted array:\", sorted_data)"
   ]
  },
  {
   "cell_type": "code",
   "execution_count": null,
   "id": "bf703ebd-c9aa-4ba8-9ab5-39b34ecd7216",
   "metadata": {},
   "outputs": [],
   "source": []
  }
 ],
 "metadata": {
  "kernelspec": {
   "display_name": "Python 3 (ipykernel)",
   "language": "python",
   "name": "python3"
  },
  "language_info": {
   "codemirror_mode": {
    "name": "ipython",
    "version": 3
   },
   "file_extension": ".py",
   "mimetype": "text/x-python",
   "name": "python",
   "nbconvert_exporter": "python",
   "pygments_lexer": "ipython3",
   "version": "3.11.0"
  }
 },
 "nbformat": 4,
 "nbformat_minor": 5
}
