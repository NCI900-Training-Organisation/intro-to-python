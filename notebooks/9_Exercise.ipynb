{
 "cells": [
  {
   "cell_type": "markdown",
   "id": "93d7a129-ef3f-4322-9fa4-6b0e682e164f",
   "metadata": {},
   "source": [
    "**Exercise 1**:\n",
    "\n",
    "Write a program that prints all the even numbers between 1 and 100. For numbers divisible by both 3 and 5, print \"FizzBuzz\" instead of the number.\n",
    "\n",
    "Goal: Practice for loops and if statements."
   ]
  },
  {
   "cell_type": "code",
   "execution_count": null,
   "id": "ee9aab8d-0931-458e-9a06-2cdd43587325",
   "metadata": {},
   "outputs": [],
   "source": []
  },
  {
   "cell_type": "markdown",
   "id": "b42d821f-b4d4-4572-a803-e39828d2f62c",
   "metadata": {},
   "source": [
    "\n",
    "**Exercise 2**:\n",
    "Write a function is_prime(n) that returns True if n is a prime number, and False otherwise. Then, write another function print_primes_up_to(limit) that prints all prime numbers up to limit.\n",
    "\n",
    "Goal: Understand function definitions, return values, and how to call functions.\n",
    "\n"
   ]
  },
  {
   "cell_type": "code",
   "execution_count": null,
   "id": "de12f025-618d-486c-a78a-6a4d2519655d",
   "metadata": {},
   "outputs": [],
   "source": []
  },
  {
   "cell_type": "markdown",
   "id": "8e7a148b-9dbc-49b9-bd5d-24a1c1f30ae1",
   "metadata": {},
   "source": [
    "**Exercise 3**:\n",
    "Create a DataFrame from a dictionary containing names, ages, and exam scores. Use NumPy to calculate the average score, and Pandas to:\n",
    "\n",
    "Filter students who scored above the average\n",
    "\n",
    "Add a new column \"Passed\" (score >= 50)\n",
    "\n",
    "Goal: Learn how to create and manipulate data with Pandas and NumPy.\n",
    "\n"
   ]
  },
  {
   "cell_type": "code",
   "execution_count": null,
   "id": "093e12c6-d8ba-4041-85cb-0606fd86d687",
   "metadata": {},
   "outputs": [],
   "source": []
  },
  {
   "cell_type": "markdown",
   "id": "d7b7d996-0728-419c-be7d-b458f5719585",
   "metadata": {},
   "source": [
    "\n",
    "**Exercise 4**:\n",
    "Using matplotlib, plot the average monthly temperatures for a city over a year. Add:\n",
    "\n",
    "X-axis labels for each month\n",
    "\n",
    "Title and axis labels\n",
    "\n",
    "A horizontal line showing the average temperature\n",
    "\n",
    "Goal: Practice basic plotting and data visualization."
   ]
  },
  {
   "cell_type": "code",
   "execution_count": null,
   "id": "66f449a3-2eba-4a8c-a694-4212fbed0232",
   "metadata": {},
   "outputs": [],
   "source": []
  }
 ],
 "metadata": {
  "kernelspec": {
   "display_name": "Python 3 (ipykernel)",
   "language": "python",
   "name": "python3"
  },
  "language_info": {
   "codemirror_mode": {
    "name": "ipython",
    "version": 3
   },
   "file_extension": ".py",
   "mimetype": "text/x-python",
   "name": "python",
   "nbconvert_exporter": "python",
   "pygments_lexer": "ipython3",
   "version": "3.11.0"
  }
 },
 "nbformat": 4,
 "nbformat_minor": 5
}
