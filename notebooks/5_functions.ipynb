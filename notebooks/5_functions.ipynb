{
 "cells": [
  {
   "cell_type": "markdown",
   "id": "fb35f0af-2f31-43a3-a73c-937a27b9f344",
   "metadata": {},
   "source": [
    "# Functions"
   ]
  },
  {
   "cell_type": "code",
   "execution_count": null,
   "id": "6b7f144a-c99f-42f2-bf19-d9825d27e6f3",
   "metadata": {},
   "outputs": [],
   "source": [
    "def odd_or_even(num):\n",
    "    if num % 2 == 0:\n",
    "        print('Even')\n",
    "    else:\n",
    "        print('Odd')"
   ]
  },
  {
   "cell_type": "code",
   "execution_count": null,
   "id": "c3e4b2cc-b7ae-4e33-bae7-7bbc0a11876f",
   "metadata": {},
   "outputs": [],
   "source": [
    "odd_or_even(200)"
   ]
  },
  {
   "cell_type": "code",
   "execution_count": null,
   "id": "9dafadac-5e15-4ec8-9a12-0f79f0cb3b76",
   "metadata": {},
   "outputs": [],
   "source": [
    "odd_or_even(121)"
   ]
  },
  {
   "cell_type": "code",
   "execution_count": null,
   "id": "803512b3-2667-42a3-b108-351b0fa09c62",
   "metadata": {},
   "outputs": [],
   "source": [
    "def even_or_odd(num):\n",
    "    if num % 2 == 0:\n",
    "        return True\n",
    "    return False"
   ]
  },
  {
   "cell_type": "code",
   "execution_count": null,
   "id": "9aea83f4-ec72-4931-b472-7239297cf588",
   "metadata": {},
   "outputs": [],
   "source": [
    "even_or_odd(200)"
   ]
  },
  {
   "cell_type": "code",
   "execution_count": null,
   "id": "e7b24fca-937e-4390-abfa-e8853c1e37f0",
   "metadata": {},
   "outputs": [],
   "source": [
    "even_or_odd(121)"
   ]
  },
  {
   "cell_type": "code",
   "execution_count": null,
   "id": "f518416a-6f21-48e9-ae24-f134be80bb97",
   "metadata": {},
   "outputs": [],
   "source": [
    "def average(numbers):\n",
    "    s = 0\n",
    "    for num in numbers:\n",
    "        s = s + num\n",
    "\n",
    "    return s / len(numbers)\n",
    "        "
   ]
  },
  {
   "cell_type": "code",
   "execution_count": null,
   "id": "36ae3d95-b513-4270-a2b0-e0877e3ff274",
   "metadata": {},
   "outputs": [],
   "source": [
    "N = [1, 2, 3, 4, 5, 6]"
   ]
  },
  {
   "cell_type": "code",
   "execution_count": null,
   "id": "c05f2bcc-62c8-48c4-921c-ce5857380b0c",
   "metadata": {},
   "outputs": [],
   "source": [
    "a = average(N)\n",
    "print('Avg = ', a)"
   ]
  },
  {
   "cell_type": "code",
   "execution_count": null,
   "id": "984752aa-91ae-4a09-a2b9-503311814709",
   "metadata": {},
   "outputs": [],
   "source": [
    "def avg(numbers):\n",
    "    s = 0\n",
    "    for num in numbers:\n",
    "        s += num\n",
    "\n",
    "    return s / len(numbers), s"
   ]
  },
  {
   "cell_type": "code",
   "execution_count": null,
   "id": "bda70511-9cf1-47c7-bbd7-6a5b91e91d18",
   "metadata": {},
   "outputs": [],
   "source": [
    "a, s = avg(N)\n",
    "print('Avg = ', a)\n",
    "print('Sum = ', s)"
   ]
  },
  {
   "cell_type": "markdown",
   "id": "d915e511-7c57-4649-9617-a342ca918983",
   "metadata": {},
   "source": [
    "## Effect on objects"
   ]
  },
  {
   "cell_type": "code",
   "execution_count": null,
   "id": "591f0013-d41c-4d09-bc65-131789c72548",
   "metadata": {},
   "outputs": [],
   "source": [
    "def modify_list(lst):\n",
    "    lst.append(4)\n",
    "    print(\"Inside function:\", lst)\n"
   ]
  },
  {
   "cell_type": "code",
   "execution_count": null,
   "id": "74b0790c-303a-425a-be06-208d87692968",
   "metadata": {},
   "outputs": [],
   "source": [
    "numbers = [1, 2, 3]\n",
    "modify_list(numbers)\n",
    "print(\"Outside function:\", numbers)"
   ]
  },
  {
   "cell_type": "markdown",
   "id": "135d4c16-0f19-44d8-a648-cfe09fd45cea",
   "metadata": {},
   "source": [
    "> When you pass a mutable object like a list or dictionary to a function, the function can modify the contents of the object."
   ]
  },
  {
   "cell_type": "code",
   "execution_count": null,
   "id": "f8a90e1b-ac18-479e-9576-f37f60c82ddd",
   "metadata": {},
   "outputs": [],
   "source": []
  }
 ],
 "metadata": {
  "kernelspec": {
   "display_name": "Python 3 (ipykernel)",
   "language": "python",
   "name": "python3"
  },
  "language_info": {
   "codemirror_mode": {
    "name": "ipython",
    "version": 3
   },
   "file_extension": ".py",
   "mimetype": "text/x-python",
   "name": "python",
   "nbconvert_exporter": "python",
   "pygments_lexer": "ipython3",
   "version": "3.11.0"
  }
 },
 "nbformat": 4,
 "nbformat_minor": 5
}
